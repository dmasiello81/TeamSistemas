{
 "cells": [
  {
   "cell_type": "markdown",
   "metadata": {},
   "source": [
    "### Ejercicio 1: Manipulación de listas\n",
    "\n",
    "Dada la siguiente lista de números:\n",
    "\n",
    "```python\n",
    "numeros = [5, 10, 15, 20, 25, 30]\n",
    "```\n",
    "\n",
    "1. Cambia el segundo elemento de la lista a `12`.\n",
    "2. Agrega el número `35` al final de la lista.\n",
    "3. Elimina el primer elemento de la lista.\n",
    "4. Imprime el número total de elementos en la lista.\n",
    "5. Utiliza un bucle `for` para imprimir cada número multiplicado por 2."
   ]
  },
  {
   "cell_type": "code",
   "execution_count": 24,
   "metadata": {},
   "outputs": [
    {
     "name": "stdout",
     "output_type": "stream",
     "text": [
      "24\n",
      "30\n",
      "40\n",
      "50\n",
      "60\n",
      "70\n"
     ]
    }
   ],
   "source": [
    "for dato in numeros:\n",
    "    print(dato * 2)"
   ]
  },
  {
   "cell_type": "code",
   "execution_count": 23,
   "metadata": {},
   "outputs": [
    {
     "name": "stdout",
     "output_type": "stream",
     "text": [
      "6\n"
     ]
    }
   ],
   "source": [
    "print(len(numeros))\n"
   ]
  },
  {
   "cell_type": "code",
   "execution_count": 18,
   "metadata": {},
   "outputs": [
    {
     "name": "stdout",
     "output_type": "stream",
     "text": [
      "[12, 15, 20, 25, 30, 35]\n"
     ]
    }
   ],
   "source": [
    "numeros.pop(0)\n",
    "print(numeros)"
   ]
  },
  {
   "cell_type": "code",
   "execution_count": 15,
   "metadata": {},
   "outputs": [
    {
     "name": "stdout",
     "output_type": "stream",
     "text": [
      "[5, 12, 15, 20, 25, 30, 35]\n"
     ]
    }
   ],
   "source": [
    "numeros.append(35)\n",
    "print(numeros)"
   ]
  },
  {
   "cell_type": "code",
   "execution_count": 14,
   "metadata": {},
   "outputs": [
    {
     "name": "stdout",
     "output_type": "stream",
     "text": [
      "[5, 12, 15, 20, 25, 30]\n"
     ]
    }
   ],
   "source": [
    "numeros[1] = 12\n",
    "print(numeros)"
   ]
  },
  {
   "cell_type": "code",
   "execution_count": 13,
   "metadata": {},
   "outputs": [
    {
     "name": "stdout",
     "output_type": "stream",
     "text": [
      "[5, 10, 15, 20, 25, 30]\n"
     ]
    }
   ],
   "source": [
    "numeros = [5,10,15,20,25,30]\n",
    "print(numeros)"
   ]
  },
  {
   "cell_type": "markdown",
   "metadata": {},
   "source": [
    "### Ejercicio 2: Diccionarios y condicionales\n",
    "\n",
    "Dado el siguiente diccionario que representa a una persona:\n",
    "\n",
    "```python\n",
    "persona = {'nombre': 'Ana', 'edad': 28, 'ciudad': 'Buenos Aires'}\n",
    "```\n",
    "\n",
    "1. Imprime el valor de la clave `nombre`.\n",
    "2. Agrega una nueva clave llamada `profesión` con el valor `'Ingeniera'`.\n",
    "3. Modifica la edad a `29`.\n",
    "4. Escribe una estructura condicional (`if`) que imprima \"Mayor de edad\" si la persona tiene 18 años o más, y \"Menor de edad\" en caso contrario."
   ]
  },
  {
   "cell_type": "code",
   "execution_count": 65,
   "metadata": {},
   "outputs": [
    {
     "name": "stdout",
     "output_type": "stream",
     "text": [
      "Mayor de edad\n"
     ]
    }
   ],
   "source": [
    "for clave,valor in persona.items():\n",
    "    if clave == 'edad':\n",
    "        if valor > 17:\n",
    "            print('Mayor de edad')\n",
    "        else:\n",
    "            print('Menor de edad')   "
   ]
  },
  {
   "cell_type": "code",
   "execution_count": 46,
   "metadata": {},
   "outputs": [
    {
     "name": "stdout",
     "output_type": "stream",
     "text": [
      "{'nombre': 'Ana', 'edad': 29, 'ciudad': 'Buenos Aires', 'profesion': 'Ingeniera'}\n"
     ]
    }
   ],
   "source": [
    "persona['edad'] = 29\n",
    "print(persona)\n"
   ]
  },
  {
   "cell_type": "code",
   "execution_count": 45,
   "metadata": {},
   "outputs": [
    {
     "data": {
      "text/plain": [
       "{'nombre': 'Ana',\n",
       " 'edad': 28,\n",
       " 'ciudad': 'Buenos Aires',\n",
       " 'profesion': 'Ingeniera'}"
      ]
     },
     "execution_count": 45,
     "metadata": {},
     "output_type": "execute_result"
    }
   ],
   "source": [
    "persona['profesion'] = 'Ingeniera'\n",
    "persona"
   ]
  },
  {
   "cell_type": "code",
   "execution_count": 37,
   "metadata": {},
   "outputs": [
    {
     "name": "stdout",
     "output_type": "stream",
     "text": [
      "Ana\n"
     ]
    }
   ],
   "source": [
    "#persona = {'nombre': 'Ana', 'edad': 28, 'ciudad': 'Buenos Aires'}\n",
    "#persona\n",
    "for clave,valor in persona.items():\n",
    "    if clave == 'nombre':\n",
    "        print(valor)"
   ]
  },
  {
   "cell_type": "markdown",
   "metadata": {},
   "source": [
    "### Ejercicio 3: Conjuntos y bucles `while`\n",
    "\n",
    "Dado el conjunto:\n",
    "\n",
    "```python\n",
    "numeros_set = {1, 2, 3, 4, 5}\n",
    "```\n",
    "\n",
    "1. Agrega los números `6` y `7` al conjunto.\n",
    "2. Escribe un bucle `while` que elimine un número del conjunto en cada iteración hasta que el conjunto esté vacío. Imprime el conjunto después de cada eliminación."
   ]
  },
  {
   "cell_type": "code",
   "execution_count": 3,
   "metadata": {},
   "outputs": [
    {
     "name": "stdout",
     "output_type": "stream",
     "text": [
      "{2, 3, 4, 5, 6, 7}\n",
      "{3, 4, 5, 6, 7}\n",
      "{4, 5, 6, 7}\n",
      "{5, 6, 7}\n",
      "{6, 7}\n",
      "{7}\n",
      "set()\n"
     ]
    }
   ],
   "source": [
    "numeros_set = {1, 2, 3, 4, 5, 6, 7}\n",
    "contador = 0\n",
    "cant = len(numeros_set)\n",
    "cant\n",
    "\n",
    "while contador < cant:\n",
    "    numeros_set.pop()\n",
    "    print(numeros_set)\n",
    "    contador += 1  # Incrementar el contador"
   ]
  },
  {
   "cell_type": "code",
   "execution_count": 69,
   "metadata": {},
   "outputs": [
    {
     "data": {
      "text/plain": [
       "{1, 2, 3, 4, 5, 6, 7}"
      ]
     },
     "execution_count": 69,
     "metadata": {},
     "output_type": "execute_result"
    }
   ],
   "source": [
    "#numeros_set = {1, 2, 3, 4, 5}\n",
    "#numeros_set\n",
    "numeros_set.add(7)\n",
    "numeros_set"
   ]
  },
  {
   "cell_type": "markdown",
   "metadata": {},
   "source": [
    "### Ejercicio 4: Tuplas y ciclos `for`\n",
    "\n",
    "Dada la siguiente tupla:\n",
    "\n",
    "```python\n",
    "colores = ('rojo', 'verde', 'azul', 'amarillo')\n",
    "```\n",
    "\n",
    "1. Escribe un ciclo `for` que imprima cada color en la tupla.\n",
    "2. Crea una nueva tupla que contenga los mismos colores pero en orden inverso. Imprime la nueva tupla."
   ]
  },
  {
   "cell_type": "code",
   "execution_count": 26,
   "metadata": {},
   "outputs": [
    {
     "name": "stdout",
     "output_type": "stream",
     "text": [
      "('amarillo', 'azul', 'verde', 'rojo')\n"
     ]
    }
   ],
   "source": [
    "tupla_invertida = colores[::-1]\n",
    "print(tupla_invertida)"
   ]
  },
  {
   "cell_type": "code",
   "execution_count": 3,
   "metadata": {},
   "outputs": [
    {
     "name": "stdout",
     "output_type": "stream",
     "text": [
      "rojo\n",
      "verde\n",
      "azul\n",
      "amarillo\n"
     ]
    }
   ],
   "source": [
    "for col in colores:\n",
    "    print(col)"
   ]
  },
  {
   "cell_type": "code",
   "execution_count": 1,
   "metadata": {},
   "outputs": [
    {
     "name": "stdout",
     "output_type": "stream",
     "text": [
      "('rojo', 'verde', 'azul', 'amarillo')\n"
     ]
    }
   ],
   "source": [
    "colores = ('rojo', 'verde', 'azul', 'amarillo')\n",
    "print(colores)"
   ]
  },
  {
   "cell_type": "markdown",
   "metadata": {},
   "source": [
    "### Ejercicio 5: Números y control de flujo\n",
    "\n",
    "Escribe un programa que realice lo siguiente:\n",
    "\n",
    "1. Solicite al usuario ingresar un número entero.\n",
    "2. Si el número es positivo, imprima \"El número es positivo\".\n",
    "3. Si el número es negativo, imprima \"El número es negativo\".\n",
    "4. Si el número es cero, imprima \"El número es cero\".\n",
    "5. Utiliza un bucle `for` para imprimir todos los números del 1 hasta el número ingresado (solo si es positivo)."
   ]
  },
  {
   "cell_type": "code",
   "execution_count": 71,
   "metadata": {},
   "outputs": [
    {
     "name": "stdout",
     "output_type": "stream",
     "text": [
      "1\n",
      "2\n",
      "3\n",
      "4\n",
      "5\n",
      "6\n",
      "7\n"
     ]
    }
   ],
   "source": [
    "a = int(input(\"Introduce un número: \"))\n",
    "b = 1\n",
    "\n",
    "while b <= a:\n",
    "    print(b)\n",
    "    b += 1"
   ]
  },
  {
   "cell_type": "code",
   "execution_count": 70,
   "metadata": {},
   "outputs": [
    {
     "name": "stdout",
     "output_type": "stream",
     "text": [
      "El numero es positivo\n"
     ]
    }
   ],
   "source": [
    "a = int(input(\"Introduce un número: \"))\n",
    "if a > 0:\n",
    "    print(\"El numero es positivo\")\n",
    "elif a < 0:\n",
    "    print(\"El numero es negativo\")\n",
    "else:\n",
    "    print(\"El numero es cero\")"
   ]
  },
  {
   "cell_type": "markdown",
   "metadata": {},
   "source": [
    "### Ejercicio 6 (Investigación): Control de flujos con inputs\n",
    "\n",
    "Investiga el concepto de **inputs** en Python. Escribe un programa que:\n",
    "\n",
    "1. Solicite al usuario que ingrese dos números.\n",
    "2. Intente dividir el primer número entre el segundo.\n",
    "3. Si el usuario intenta dividir entre cero, captura la excepción y muestra un mensaje adecuado como \"Error: no se puede dividir entre cero\"."
   ]
  },
  {
   "cell_type": "code",
   "execution_count": 1,
   "metadata": {},
   "outputs": [
    {
     "name": "stdout",
     "output_type": "stream",
     "text": [
      "No se puede dividir entre 0\n"
     ]
    }
   ],
   "source": [
    "try: \n",
    "    numero = int(input(\"Introduce un número: \"))\n",
    "    numero2 = int(input(\"Introduce otro número: \"))\n",
    "    # numero = int(numero)  lo pasa a numero, el input lo toma como texto\n",
    "    h = numero/numero2\n",
    "except ZeroDivisionError:\n",
    "    print('No se puede dividir entre 0')\n",
    "else:\n",
    "    print(h) \n",
    "\n",
    "    # otra exeption\n",
    "    # except Exception as e:\n",
    "    #   print(f\"Error: {e})   \n"
   ]
  }
 ],
 "metadata": {
  "kernelspec": {
   "display_name": "Python 3",
   "language": "python",
   "name": "python3"
  },
  "language_info": {
   "codemirror_mode": {
    "name": "ipython",
    "version": 3
   },
   "file_extension": ".py",
   "mimetype": "text/x-python",
   "name": "python",
   "nbconvert_exporter": "python",
   "pygments_lexer": "ipython3",
   "version": "3.12.6"
  }
 },
 "nbformat": 4,
 "nbformat_minor": 2
}
