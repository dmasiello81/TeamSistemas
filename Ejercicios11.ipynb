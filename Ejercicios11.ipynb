{
 "cells": [
  {
   "cell_type": "markdown",
   "metadata": {},
   "source": [
    "#### **Ejercicio 1: Creación y manipulación de Series**\n",
    "1. Crea una Serie que contenga las ventas de una tienda de lunes a viernes. Utiliza las siguientes cantidades:\n",
    "   - Lunes: 100\n",
    "   - Martes: 150\n",
    "   - Miércoles: 200\n",
    "   - Jueves: 50\n",
    "   - Viernes: 300\n",
    "   \n",
    "2. Realiza las siguientes operaciones sobre la Serie:\n",
    "   - Accede al valor de las ventas del miércoles.\n",
    "   - Calcula el total de ventas de la semana.\n",
    "   - Filtra los días donde las ventas fueron mayores a 100."
   ]
  },
  {
   "cell_type": "code",
   "execution_count": 11,
   "metadata": {},
   "outputs": [
    {
     "name": "stdout",
     "output_type": "stream",
     "text": [
      "Lunes        100\n",
      "Martes       150\n",
      "Miercoles    200\n",
      "Jueves        50\n",
      "Viernes      300\n",
      "dtype: int64\n"
     ]
    }
   ],
   "source": [
    "\n",
    "import pandas as pd\n",
    "#Crea una Serie que contenga las ventas de una tienda de lunes a viernes. Utiliza las siguientes cantidades:\n",
    "ventas = pd.Series({'Lunes':100,'Martes':150,'Miercoles':200,'Jueves':50,'Viernes':300})\n",
    "print(ventas)"
   ]
  },
  {
   "cell_type": "code",
   "execution_count": 12,
   "metadata": {},
   "outputs": [
    {
     "name": "stdout",
     "output_type": "stream",
     "text": [
      "200\n"
     ]
    }
   ],
   "source": [
    "#Accede al valor de las ventas del miércoles.\n",
    "print(ventas['Miercoles'])"
   ]
  },
  {
   "cell_type": "code",
   "execution_count": 13,
   "metadata": {},
   "outputs": [
    {
     "name": "stdout",
     "output_type": "stream",
     "text": [
      "800\n"
     ]
    }
   ],
   "source": [
    "#Calcula el total de ventas de la semana.\n",
    "print(ventas.sum())"
   ]
  },
  {
   "cell_type": "code",
   "execution_count": 14,
   "metadata": {},
   "outputs": [
    {
     "name": "stdout",
     "output_type": "stream",
     "text": [
      "Martes       150\n",
      "Miercoles    200\n",
      "Viernes      300\n",
      "dtype: int64\n"
     ]
    }
   ],
   "source": [
    "# Filtra los días donde las ventas fueron mayores a 100.\n",
    "condicion = ventas[ventas > 100]\n",
    "print(condicion)"
   ]
  },
  {
   "cell_type": "markdown",
   "metadata": {},
   "source": [
    "#### **Ejercicio 2: Creación y análisis de un DataFrame**\n",
    "1. Crea un DataFrame que contenga los nombres y edades de las siguientes personas:\n",
    "   - Ana, 23 años\n",
    "   - Luis, 35 años\n",
    "   - María, 29 años\n",
    "   \n",
    "2. Realiza las siguientes operaciones sobre el DataFrame:\n",
    "   - Accede a la columna de los nombres.\n",
    "   - Filtra las filas donde la edad sea mayor a 25.\n",
    "   - Agrega una nueva columna con los salarios de las personas (Ana: 30000, Luis: 45000, María: 35000)."
   ]
  },
  {
   "cell_type": "code",
   "execution_count": 15,
   "metadata": {},
   "outputs": [
    {
     "name": "stdout",
     "output_type": "stream",
     "text": [
      "  Nombre  Edad\n",
      "0    Ana    23\n",
      "1   Luis    35\n",
      "2  María    29\n"
     ]
    }
   ],
   "source": [
    "#Crea un DataFrame que contenga los nombres y edades de las siguientes personas\n",
    "data = {'Nombre': ['Ana', 'Luis', 'María'], 'Edad': [23, 35, 29]}\n",
    "df = pd.DataFrame(data)\n",
    "print(df)"
   ]
  },
  {
   "cell_type": "code",
   "execution_count": 16,
   "metadata": {},
   "outputs": [
    {
     "name": "stdout",
     "output_type": "stream",
     "text": [
      "0      Ana\n",
      "1     Luis\n",
      "2    María\n",
      "Name: Nombre, dtype: object\n"
     ]
    }
   ],
   "source": [
    "#Accede a la columna de los nombres\n",
    "print(df['Nombre'])"
   ]
  },
  {
   "cell_type": "code",
   "execution_count": 17,
   "metadata": {},
   "outputs": [
    {
     "name": "stdout",
     "output_type": "stream",
     "text": [
      "  Nombre  Edad\n",
      "1   Luis    35\n",
      "2  María    29\n"
     ]
    }
   ],
   "source": [
    "#Filtra las filas donde la edad sea mayor a 25.\n",
    "condicion = df[df['Edad'] > 25]\n",
    "print(condicion)"
   ]
  },
  {
   "cell_type": "code",
   "execution_count": 18,
   "metadata": {},
   "outputs": [
    {
     "name": "stdout",
     "output_type": "stream",
     "text": [
      "  Nombre  Edad  Salario\n",
      "0    Ana    23    30000\n",
      "1   Luis    35    45000\n",
      "2  María    29    35000\n"
     ]
    }
   ],
   "source": [
    "#Agrega una nueva columna con los salarios de las personas (Ana: 30000, Luis: 45000, María: 35000).\n",
    "df['Salario'] = [30000, 45000, 35000]\n",
    "print(df)"
   ]
  },
  {
   "cell_type": "markdown",
   "metadata": {},
   "source": [
    "#### **Ejercicio 3: Cálculos con DataFrames**\n",
    "1. Crea un DataFrame con información de ventas de productos en una tienda:\n",
    "   - Productos: \"Laptop\", \"Mouse\", \"Teclado\"\n",
    "   - Ventas: 30, 120, 75\n",
    "   - Precio por unidad: 1000, 50, 80\n",
    "\n",
    "2. Calcula:\n",
    "   - La venta total para cada producto (multiplicando el precio por unidad por las ventas).\n",
    "   - El total de ingresos para todos los productos."
   ]
  },
  {
   "cell_type": "code",
   "execution_count": 19,
   "metadata": {},
   "outputs": [
    {
     "name": "stdout",
     "output_type": "stream",
     "text": [
      "  Productos  Ventas  Precio por unidad\n",
      "0    Laptop      30               1000\n",
      "1     Mouse     120                 50\n",
      "2   Teclado      75                 80\n"
     ]
    }
   ],
   "source": [
    "#Crea un DataFrame con información de ventas de productos en una tienda\n",
    "data = {'Productos': ['Laptop', 'Mouse', 'Teclado'], 'Ventas': [30,120,75], 'Precio por unidad': [1000,50,80]}\n",
    "df = pd.DataFrame(data)\n",
    "print(df)"
   ]
  },
  {
   "cell_type": "code",
   "execution_count": 23,
   "metadata": {},
   "outputs": [
    {
     "name": "stdout",
     "output_type": "stream",
     "text": [
      "  Productos  Ventas  Precio por unidad  Ventas por producto\n",
      "0    Laptop      30               1000                30000\n",
      "1     Mouse     120                 50                 6000\n",
      "2   Teclado      75                 80                 6000\n"
     ]
    }
   ],
   "source": [
    "#La venta total para cada producto (multiplicando el precio por unidad por las ventas)\n",
    "df['Ventas por producto'] = df['Ventas'] * df['Precio por unidad']\n",
    "print(df)"
   ]
  },
  {
   "cell_type": "code",
   "execution_count": 26,
   "metadata": {},
   "outputs": [
    {
     "name": "stdout",
     "output_type": "stream",
     "text": [
      "42000\n"
     ]
    }
   ],
   "source": [
    "#El total de ingresos para todos los productos.\n",
    "print(df['Ventas por producto'].sum())"
   ]
  },
  {
   "cell_type": "markdown",
   "metadata": {},
   "source": [
    "#### **Ejercicio 4: Transformación y limpieza de datos en DataFrames**\n",
    "1. Crea un DataFrame con información de estudiantes y sus calificaciones en tres materias:\n",
    "   - Estudiantes: \"Ana\", \"Luis\", \"María\", \"Carlos\"\n",
    "   - Matemáticas: 90, 85, None, 78\n",
    "   - Ciencia: 88, 92, 85, None\n",
    "   - Historia: 75, None, 80, 90\n",
    "\n",
    "2. Realiza las siguientes operaciones:\n",
    "   - Rellena los valores faltantes con la media de cada columna.\n",
    "   - Renombra las columnas de las materias en inglés (Math, Science, History).\n",
    "   - Calcula la calificación promedio de cada estudiante."
   ]
  },
  {
   "cell_type": "code",
   "execution_count": 33,
   "metadata": {},
   "outputs": [
    {
     "name": "stdout",
     "output_type": "stream",
     "text": [
      "  Estudiantes  Matematica  Ciencia  Historia\n",
      "0         Ana        90.0     88.0      75.0\n",
      "1        Luis        85.0     92.0       NaN\n",
      "2       María         NaN     85.0      80.0\n",
      "3      Carlos        78.0      NaN      90.0\n"
     ]
    }
   ],
   "source": [
    "#Crea un DataFrame con información de estudiantes y sus calificaciones en tres materias\n",
    "data = {'Estudiantes': ['Ana', 'Luis', 'María', 'Carlos'], 'Matematica': [90, 85, None, 78], 'Ciencia': [88, 92, 85, None], 'Historia': [75, None, 80, 90]}\n",
    "df = pd.DataFrame(data)\n",
    "print(df)"
   ]
  },
  {
   "cell_type": "code",
   "execution_count": 34,
   "metadata": {},
   "outputs": [
    {
     "name": "stdout",
     "output_type": "stream",
     "text": [
      "  Estudiantes  Matematica  Ciencia  Historia\n",
      "0         Ana        90.0     88.0      75.0\n",
      "1        Luis        85.0     92.0      99.0\n",
      "2       María        99.0     85.0      80.0\n",
      "3      Carlos        78.0     99.0      90.0\n"
     ]
    }
   ],
   "source": [
    "#Rellena los valores faltantes con la media de cada columna.\n",
    "df.at[1, 'Historia'] = 99\n",
    "df.at[2, 'Matematica'] = 99\n",
    "df.at[3, 'Ciencia'] = 99\n",
    "print(df)"
   ]
  },
  {
   "cell_type": "code",
   "execution_count": 40,
   "metadata": {},
   "outputs": [
    {
     "name": "stdout",
     "output_type": "stream",
     "text": [
      "  Estudiantes  Math  Science  History\n",
      "0         Ana  90.0     88.0     75.0\n",
      "1        Luis  85.0     92.0     99.0\n",
      "2       María  99.0     85.0     80.0\n",
      "3      Carlos  78.0     99.0     90.0\n"
     ]
    }
   ],
   "source": [
    "#Renombra las columnas de las materias en inglés (Math, Science, History).\n",
    "df.rename(columns={'Matematica': 'Math', 'Ciencia': 'Science', 'Historia': 'History'}, \n",
    "          inplace=True)\n",
    "print(df)"
   ]
  },
  {
   "cell_type": "code",
   "execution_count": 46,
   "metadata": {},
   "outputs": [
    {
     "name": "stdout",
     "output_type": "stream",
     "text": [
      "  Estudiantes  Math  Science  History  Media de calificacion\n",
      "0         Ana  90.0     88.0     75.0              84.333333\n",
      "1        Luis  85.0     92.0     99.0              92.000000\n",
      "2       María  99.0     85.0     80.0              88.000000\n",
      "3      Carlos  78.0     99.0     90.0              89.000000\n"
     ]
    }
   ],
   "source": [
    "#Calcula la calificación promedio de cada estudiante.\n",
    "df['Media de calificacion'] = df['Math'] + df['Science'] + df['History']\n",
    "df['Media de calificacion'] = df['Media de calificacion'] / 3\n",
    "print(df)"
   ]
  }
 ],
 "metadata": {
  "kernelspec": {
   "display_name": "Python 3",
   "language": "python",
   "name": "python3"
  },
  "language_info": {
   "codemirror_mode": {
    "name": "ipython",
    "version": 3
   },
   "file_extension": ".py",
   "mimetype": "text/x-python",
   "name": "python",
   "nbconvert_exporter": "python",
   "pygments_lexer": "ipython3",
   "version": "3.12.6"
  }
 },
 "nbformat": 4,
 "nbformat_minor": 2
}
