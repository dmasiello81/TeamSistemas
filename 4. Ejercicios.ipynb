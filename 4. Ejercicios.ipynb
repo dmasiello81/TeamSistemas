{
 "cells": [
  {
   "cell_type": "markdown",
   "metadata": {},
   "source": [
    "### **Ejercicio 1: Limpiar y transformar columnas de texto**\n",
    "Dado el siguiente DataFrame de productos:"
   ]
  },
  {
   "cell_type": "code",
   "execution_count": 16,
   "metadata": {},
   "outputs": [],
   "source": [
    "import pandas as pd\n",
    "\n",
    "data = {\n",
    "    'Producto': ['Café', 'té', ' chocolate', ' Cacao '],\n",
    "    'Precio': [100, 80, 150, 120],\n",
    "    'Categoría': ['bebidas calientes', 'bebidas calientes', 'snacks dulces', ' bebidas calientes ']\n",
    "}\n",
    "\n",
    "df_productos = pd.DataFrame(data)"
   ]
  },
  {
   "cell_type": "code",
   "execution_count": 17,
   "metadata": {},
   "outputs": [
    {
     "name": "stdout",
     "output_type": "stream",
     "text": [
      "    Producto  Precio          Categoría\n",
      "0       Café     100  bebidas calientes\n",
      "1         té      80  bebidas calientes\n",
      "2  chocolate     150      snacks dulces\n",
      "3      Cacao     120  bebidas calientes\n"
     ]
    }
   ],
   "source": [
    "# Quitar espacios en blanco al inicio y al final en las columnas de texto\n",
    "df_productos['Producto'] = df_productos['Producto'].str.strip()\n",
    "df_productos['Categoría'] = df_productos['Categoría'].str.strip()\n",
    "\n",
    "# Mostrar el DataFrame actualizado\n",
    "print(df_productos)"
   ]
  },
  {
   "cell_type": "code",
   "execution_count": 18,
   "metadata": {},
   "outputs": [
    {
     "name": "stdout",
     "output_type": "stream",
     "text": [
      "    Producto  Precio          Categoría\n",
      "0       Café     100  BEBIDAS CALIENTES\n",
      "1         té      80  BEBIDAS CALIENTES\n",
      "2  chocolate     150      SNACKS DULCES\n",
      "3      Cacao     120  BEBIDAS CALIENTES\n"
     ]
    }
   ],
   "source": [
    "#Convierte todos los valores de la columna **Categoría** a mayúsculas.\n",
    "df_productos['Categoría'] = df_productos['Categoría'].str.upper()\n",
    "\n",
    "# Mostrar el DataFrame actualizado\n",
    "print(df_productos)"
   ]
  },
  {
   "cell_type": "code",
   "execution_count": 19,
   "metadata": {},
   "outputs": [
    {
     "name": "stdout",
     "output_type": "stream",
     "text": [
      "    Producto  Precio          Categoría\n",
      "0       Café     100  BEBIDAS CALIENTES\n",
      "1         té      80  BEBIDAS CALIENTES\n",
      "2  chocolate     150            postres\n",
      "3      Cacao     120  BEBIDAS CALIENTES\n"
     ]
    }
   ],
   "source": [
    "#Reemplaza la categoría 'snacks dulces' por 'postres'.\n",
    "# Reemplazar 'snacks dulces' por 'postres' en la columna 'Categoría'\n",
    "df_productos['Categoría'] = df_productos['Categoría'].replace('SNACKS DULCES', 'postres')\n",
    "print(df_productos)"
   ]
  },
  {
   "cell_type": "code",
   "execution_count": 20,
   "metadata": {},
   "outputs": [],
   "source": [
    "# Crear una nueva columna que indique si el precio es mayor o igual a 120\n",
    "df_productos['Precio >= 120'] = df_productos['Precio'].apply(lambda x: x >= 120)\n"
   ]
  },
  {
   "cell_type": "code",
   "execution_count": 21,
   "metadata": {},
   "outputs": [
    {
     "name": "stdout",
     "output_type": "stream",
     "text": [
      "    Producto  Precio          Categoría  Precio >= 120\n",
      "0       Café     100  BEBIDAS CALIENTES          False\n",
      "1         té      80  BEBIDAS CALIENTES          False\n",
      "2  chocolate     150            postres           True\n",
      "3      Cacao     120  BEBIDAS CALIENTES           True\n"
     ]
    }
   ],
   "source": [
    "print(df_productos)"
   ]
  },
  {
   "cell_type": "markdown",
   "metadata": {},
   "source": [
    "1. Elimina los espacios en blanco de las columnas **Producto**.\n",
    "2. Convierte todos los valores de la columna **Categoría** a mayúsculas.\n",
    "3. Reemplaza la categoría 'snacks dulces' por 'postres'.\n",
    "4. Crea una nueva columna que indique si el precio es mayor o igual a 120. Usa una función `lambda` para esto."
   ]
  },
  {
   "cell_type": "code",
   "execution_count": null,
   "metadata": {},
   "outputs": [],
   "source": []
  },
  {
   "cell_type": "markdown",
   "metadata": {},
   "source": [
    "### **Ejercicio 2: Limpieza de duplicados y manejo de datos faltantes**\n",
    "Dado el siguiente DataFrame de empleados:"
   ]
  },
  {
   "cell_type": "code",
   "execution_count": 23,
   "metadata": {},
   "outputs": [],
   "source": [
    "data_empleados = {\n",
    "    'Nombre': ['Ana', 'Luis', 'Pedro', 'Luis', 'Juan', 'Ana'],\n",
    "    'Edad': [29, 45, None, 40, 35, 29],\n",
    "    'Departamento': ['Ventas', 'Finanzas', 'RRHH', 'Finanzas', 'Marketing', None]\n",
    "}\n",
    "\n",
    "df_empleados = pd.DataFrame(data_empleados)"
   ]
  },
  {
   "cell_type": "markdown",
   "metadata": {},
   "source": [
    "1. Elimina las filas duplicadas en base a la columna **Nombre**. Quédate con la persona `más joven´.\n",
    "2. Llena los valores faltantes de la columna **Edad** con la media de las edades.\n",
    "3. Llena los valores faltantes de la columna **Departamento** con el valor 'Desconocido'.\n",
    "4. Ordena el DataFrame por edad de forma descendente."
   ]
  },
  {
   "cell_type": "code",
   "execution_count": 27,
   "metadata": {},
   "outputs": [
    {
     "name": "stdout",
     "output_type": "stream",
     "text": [
      "  Nombre       Edad Departamento\n",
      "0    Ana  29.000000       Ventas\n",
      "2  Pedro  34.666667         RRHH\n",
      "4   Juan  35.000000    Marketing\n",
      "3   Luis  40.000000     Finanzas\n"
     ]
    }
   ],
   "source": [
    "\n",
    "# 1. Eliminar filas duplicadas en base a la columna 'Nombre', quedándose con la persona más joven\n",
    "df_empleados = df_empleados.sort_values(by='Edad').drop_duplicates(subset='Nombre', keep='first')\n",
    "# Mostrar el DataFrame actualizado\n",
    "print(df_empleados)\n"
   ]
  },
  {
   "cell_type": "code",
   "execution_count": 28,
   "metadata": {},
   "outputs": [
    {
     "name": "stdout",
     "output_type": "stream",
     "text": [
      "  Nombre       Edad Departamento\n",
      "0    Ana  29.000000       Ventas\n",
      "2  Pedro  34.666667         RRHH\n",
      "4   Juan  35.000000    Marketing\n",
      "3   Luis  40.000000     Finanzas\n"
     ]
    },
    {
     "name": "stderr",
     "output_type": "stream",
     "text": [
      "C:\\Users\\SyrDistic\\AppData\\Local\\Temp\\ipykernel_4092\\3020777639.py:2: FutureWarning: A value is trying to be set on a copy of a DataFrame or Series through chained assignment using an inplace method.\n",
      "The behavior will change in pandas 3.0. This inplace method will never work because the intermediate object on which we are setting values always behaves as a copy.\n",
      "\n",
      "For example, when doing 'df[col].method(value, inplace=True)', try using 'df.method({col: value}, inplace=True)' or df[col] = df[col].method(value) instead, to perform the operation inplace on the original object.\n",
      "\n",
      "\n",
      "  df_empleados['Edad'].fillna(df_empleados['Edad'].mean(), inplace=True)\n"
     ]
    }
   ],
   "source": [
    "# 2. Llenar los valores faltantes en la columna 'Edad' con la media de las edades\n",
    "df_empleados['Edad'].fillna(df_empleados['Edad'].mean(), inplace=True)\n",
    "# Mostrar el DataFrame actualizado\n",
    "print(df_empleados)\n"
   ]
  },
  {
   "cell_type": "code",
   "execution_count": 29,
   "metadata": {},
   "outputs": [
    {
     "name": "stdout",
     "output_type": "stream",
     "text": [
      "  Nombre       Edad Departamento\n",
      "0    Ana  29.000000       Ventas\n",
      "2  Pedro  34.666667         RRHH\n",
      "4   Juan  35.000000    Marketing\n",
      "3   Luis  40.000000     Finanzas\n"
     ]
    },
    {
     "name": "stderr",
     "output_type": "stream",
     "text": [
      "C:\\Users\\SyrDistic\\AppData\\Local\\Temp\\ipykernel_4092\\574465424.py:2: FutureWarning: A value is trying to be set on a copy of a DataFrame or Series through chained assignment using an inplace method.\n",
      "The behavior will change in pandas 3.0. This inplace method will never work because the intermediate object on which we are setting values always behaves as a copy.\n",
      "\n",
      "For example, when doing 'df[col].method(value, inplace=True)', try using 'df.method({col: value}, inplace=True)' or df[col] = df[col].method(value) instead, to perform the operation inplace on the original object.\n",
      "\n",
      "\n",
      "  df_empleados['Departamento'].fillna('Desconocido', inplace=True)\n"
     ]
    }
   ],
   "source": [
    "# 3. Llenar los valores faltantes en la columna 'Departamento' con 'Desconocido'\n",
    "df_empleados['Departamento'].fillna('Desconocido', inplace=True)\n",
    "# Mostrar el DataFrame actualizado\n",
    "print(df_empleados)"
   ]
  },
  {
   "cell_type": "code",
   "execution_count": 30,
   "metadata": {},
   "outputs": [
    {
     "name": "stdout",
     "output_type": "stream",
     "text": [
      "  Nombre       Edad Departamento\n",
      "3   Luis  40.000000     Finanzas\n",
      "4   Juan  35.000000    Marketing\n",
      "2  Pedro  34.666667         RRHH\n",
      "0    Ana  29.000000       Ventas\n"
     ]
    }
   ],
   "source": [
    "# 4. Ordenar el DataFrame por la columna 'Edad' de forma descendente\n",
    "df_empleados = df_empleados.sort_values(by='Edad', ascending=False)\n",
    "# Mostrar el DataFrame actualizado\n",
    "print(df_empleados)"
   ]
  },
  {
   "cell_type": "code",
   "execution_count": 25,
   "metadata": {},
   "outputs": [
    {
     "name": "stdout",
     "output_type": "stream",
     "text": [
      "  Nombre  Edad Departamento\n",
      "0    Ana  29.0       Ventas\n",
      "4   Juan  35.0    Marketing\n",
      "3   Luis  40.0     Finanzas\n",
      "2  Pedro   NaN         RRHH\n"
     ]
    }
   ],
   "source": [
    "print(df_empleados)"
   ]
  },
  {
   "cell_type": "code",
   "execution_count": null,
   "metadata": {},
   "outputs": [],
   "source": []
  },
  {
   "cell_type": "markdown",
   "metadata": {},
   "source": [
    "### **Ejercicio 3: Aplicar funciones a las columnas**\n",
    "Dado un DataFrame de ventas de productos:"
   ]
  },
  {
   "cell_type": "code",
   "execution_count": 32,
   "metadata": {},
   "outputs": [
    {
     "name": "stdout",
     "output_type": "stream",
     "text": [
      "  Producto  Precio  Cantidad\n",
      "0     Café     120         3\n",
      "1       Té      80         5\n",
      "2     Jugo      90         2\n",
      "3     Agua      60         8\n"
     ]
    }
   ],
   "source": [
    "data_ventas = {\n",
    "    'Producto': ['Café', 'Té', 'Jugo', 'Agua'],\n",
    "    'Precio': [120, 80, 90, 60],\n",
    "    'Cantidad': [3, 5, 2, 8]\n",
    "}\n",
    "\n",
    "df_ventas = pd.DataFrame(data_ventas)\n",
    "print(df_ventas)"
   ]
  },
  {
   "cell_type": "markdown",
   "metadata": {},
   "source": [
    "1. Calcula el total de ventas (Precio * Cantidad) y agrégalo como una nueva columna.\n",
    "2. Crea una nueva columna llamada **Descuento** que aplique un descuento del 10% si el precio es mayor a 100, y del 5% si es menor o igual a 100. Usa la función `apply` y una función `lambda`."
   ]
  },
  {
   "cell_type": "code",
   "execution_count": 33,
   "metadata": {},
   "outputs": [
    {
     "name": "stdout",
     "output_type": "stream",
     "text": [
      "  Producto  Precio  Cantidad  Total de vetnas\n",
      "0     Café     120         3              360\n",
      "1       Té      80         5              400\n",
      "2     Jugo      90         2              180\n",
      "3     Agua      60         8              480\n"
     ]
    }
   ],
   "source": [
    "#1. Calcula el total de ventas (Precio * Cantidad) y agrégalo como una nueva columna.\n",
    "df_ventas['Total de vetnas'] = df_ventas['Precio'] * df_ventas['Cantidad']\n",
    "print(df_ventas)"
   ]
  },
  {
   "cell_type": "code",
   "execution_count": 34,
   "metadata": {},
   "outputs": [
    {
     "name": "stdout",
     "output_type": "stream",
     "text": [
      "  Producto  Precio  Cantidad  Total de vetnas  Descuento\n",
      "0     Café     120         3              360       0.10\n",
      "1       Té      80         5              400       0.05\n",
      "2     Jugo      90         2              180       0.05\n",
      "3     Agua      60         8              480       0.05\n"
     ]
    }
   ],
   "source": [
    "# 2. Crear una nueva columna llamada 'Descuento' con el 10% si el precio > 100, y 5% si es <= 100\n",
    "df_ventas['Descuento'] = df_ventas['Precio'].apply(lambda x: 0.10 if x > 100 else 0.05)\n",
    "print(df_ventas)"
   ]
  },
  {
   "cell_type": "markdown",
   "metadata": {},
   "source": [
    "### **Ejercicio 4: Uso de funciones de cadena**\n",
    "Dado el siguiente DataFrame de direcciones de clientes:"
   ]
  },
  {
   "cell_type": "code",
   "execution_count": 40,
   "metadata": {},
   "outputs": [],
   "source": [
    "data_clientes = {\n",
    "    'Cliente': ['Juan Pérez', 'Ana Ruiz', 'Pedro López'],\n",
    "    'Dirección': ['calle falsa 123', 'Calle PRINCIPAL 45', 'AV. LOS robles 34']\n",
    "}\n",
    "\n",
    "df_clientes = pd.DataFrame(data_clientes)"
   ]
  },
  {
   "cell_type": "markdown",
   "metadata": {},
   "source": [
    "1. Convierte todos los valores de la columna **Dirección** a minúsculas.\n",
    "2. Reemplaza las abreviaturas \"calle\", \"av.\" por \"calle\" y \"avenida\" respectivamente.\n",
    "3. Extrae el número de la dirección y guárdalo en una nueva columna llamada **Número**."
   ]
  },
  {
   "cell_type": "code",
   "execution_count": 41,
   "metadata": {},
   "outputs": [
    {
     "name": "stdout",
     "output_type": "stream",
     "text": [
      "       Cliente           Dirección\n",
      "0   Juan Pérez     calle falsa 123\n",
      "1     Ana Ruiz  calle principal 45\n",
      "2  Pedro López   av. los robles 34\n"
     ]
    }
   ],
   "source": [
    "#1. Convierte todos los valores de la columna **Dirección** a minúsculas.\n",
    "df_clientes['Dirección'] = df_clientes['Dirección'].str.lower()\n",
    "print(df_clientes)"
   ]
  },
  {
   "cell_type": "code",
   "execution_count": 42,
   "metadata": {},
   "outputs": [
    {
     "name": "stdout",
     "output_type": "stream",
     "text": [
      "       Cliente              Dirección\n",
      "0   Juan Pérez        calle falsa 123\n",
      "1     Ana Ruiz     calle principal 45\n",
      "2  Pedro López  avenida los robles 34\n"
     ]
    }
   ],
   "source": [
    "#2. Reemplaza las abreviaturas \"calle\", \"av.\" por \"calle\" y \"avenida\" respectivamente.\n",
    "df_clientes['Dirección'] = df_clientes['Dirección'].str.replace('av.', 'avenida', regex=False)\n",
    "print(df_clientes)\n"
   ]
  },
  {
   "cell_type": "code",
   "execution_count": 47,
   "metadata": {},
   "outputs": [
    {
     "name": "stdout",
     "output_type": "stream",
     "text": [
      "       Cliente              Dirección Número\n",
      "0   Juan Pérez        calle falsa 123    123\n",
      "1     Ana Ruiz     calle principal 45     45\n",
      "2  Pedro López  avenida los robles 34     34\n"
     ]
    }
   ],
   "source": [
    "# 3. Extraer el número de la dirección y guardarlo en una nueva columna llamada 'Número'\n",
    "df_clientes['Número'] = df_clientes['Dirección'].str.extract(r'(\\d+)$')\n",
    "print(df_clientes)"
   ]
  }
 ],
 "metadata": {
  "kernelspec": {
   "display_name": "curso-ine",
   "language": "python",
   "name": "python3"
  },
  "language_info": {
   "codemirror_mode": {
    "name": "ipython",
    "version": 3
   },
   "file_extension": ".py",
   "mimetype": "text/x-python",
   "name": "python",
   "nbconvert_exporter": "python",
   "pygments_lexer": "ipython3",
   "version": "3.12.6"
  }
 },
 "nbformat": 4,
 "nbformat_minor": 2
}
