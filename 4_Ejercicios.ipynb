{
 "cells": [
  {
   "cell_type": "markdown",
   "metadata": {},
   "source": [
    "### **Ejercicio 1: Limpiar y transformar columnas de texto**\n",
    "Dado el siguiente DataFrame de productos:"
   ]
  },
  {
   "cell_type": "code",
   "execution_count": 4,
   "metadata": {},
   "outputs": [
    {
     "name": "stdout",
     "output_type": "stream",
     "text": [
      "     Producto  Precio            Categoría\n",
      "0        Café     100    bebidas calientes\n",
      "1          té      80    bebidas calientes\n",
      "2   chocolate     150        snacks dulces\n",
      "3      Cacao      120   bebidas calientes \n"
     ]
    }
   ],
   "source": [
    "import pandas as pd\n",
    "\n",
    "data = {\n",
    "    'Producto': ['Café', 'té', ' chocolate', ' Cacao '],\n",
    "    'Precio': [100, 80, 150, 120],\n",
    "    'Categoría': ['bebidas calientes', 'bebidas calientes', 'snacks dulces', ' bebidas calientes ']\n",
    "}\n",
    "\n",
    "df_productos = pd.DataFrame(data)\n",
    "print(df_productos)"
   ]
  },
  {
   "cell_type": "markdown",
   "metadata": {},
   "source": [
    "1. Elimina los espacios en blanco de las columnas **Producto**.\n",
    "2. Convierte todos los valores de la columna **Categoría** a mayúsculas.\n",
    "3. Reemplaza la categoría 'snacks dulces' por 'postres'.\n",
    "4. Crea una nueva columna que indique si el precio es mayor o igual a 120. Usa una función `lambda` para esto."
   ]
  },
  {
   "cell_type": "code",
   "execution_count": 11,
   "metadata": {},
   "outputs": [
    {
     "name": "stdout",
     "output_type": "stream",
     "text": [
      "    Producto  Precio            Categoría\n",
      "0       Café     100    bebidas calientes\n",
      "1         té      80    bebidas calientes\n",
      "2  chocolate     150        snacks dulces\n",
      "3      Cacao     120   bebidas calientes \n"
     ]
    }
   ],
   "source": [
    "#1. Elimina los espacios en blanco de las columnas **Producto**.\n",
    "df_productos['Producto'] = df_productos['Producto'].str.strip()\n",
    "inplace=True\n",
    "print(df_productos)\n"
   ]
  },
  {
   "cell_type": "code",
   "execution_count": 5,
   "metadata": {},
   "outputs": [
    {
     "name": "stdout",
     "output_type": "stream",
     "text": [
      "     Producto  Precio            Categoría\n",
      "0        Café     100    BEBIDAS CALIENTES\n",
      "1          té      80    BEBIDAS CALIENTES\n",
      "2   chocolate     150        SNACKS DULCES\n",
      "3      Cacao      120   BEBIDAS CALIENTES \n"
     ]
    }
   ],
   "source": [
    "#2. Convierte todos los valores de la columna **Categoría** a mayúsculas.\n",
    "df_productos['Categoría'] = df_productos['Categoría'].str.upper()\n",
    "inplace=True\n",
    "print(df_productos)"
   ]
  },
  {
   "cell_type": "code",
   "execution_count": 6,
   "metadata": {},
   "outputs": [
    {
     "name": "stdout",
     "output_type": "stream",
     "text": [
      "     Producto  Precio            Categoría\n",
      "0        Café     100    BEBIDAS CALIENTES\n",
      "1          té      80    BEBIDAS CALIENTES\n",
      "2   chocolate     150              POSTRES\n",
      "3      Cacao      120   BEBIDAS CALIENTES \n"
     ]
    }
   ],
   "source": [
    "#3. Reemplaza la categoría 'snacks dulces' por 'postres'.\n",
    "df_productos['Categoría'] = df_productos['Categoría'].str.replace('SNACKS DULCES','POSTRES')\n",
    "inplace=True\n",
    "print(df_productos)"
   ]
  },
  {
   "cell_type": "code",
   "execution_count": 7,
   "metadata": {},
   "outputs": [
    {
     "data": {
      "text/html": [
       "<div>\n",
       "<style scoped>\n",
       "    .dataframe tbody tr th:only-of-type {\n",
       "        vertical-align: middle;\n",
       "    }\n",
       "\n",
       "    .dataframe tbody tr th {\n",
       "        vertical-align: top;\n",
       "    }\n",
       "\n",
       "    .dataframe thead th {\n",
       "        text-align: right;\n",
       "    }\n",
       "</style>\n",
       "<table border=\"1\" class=\"dataframe\">\n",
       "  <thead>\n",
       "    <tr style=\"text-align: right;\">\n",
       "      <th></th>\n",
       "      <th>Producto</th>\n",
       "      <th>Precio</th>\n",
       "      <th>Categoría</th>\n",
       "      <th>&gt;=120</th>\n",
       "    </tr>\n",
       "  </thead>\n",
       "  <tbody>\n",
       "    <tr>\n",
       "      <th>0</th>\n",
       "      <td>Café</td>\n",
       "      <td>100</td>\n",
       "      <td>BEBIDAS CALIENTES</td>\n",
       "      <td>False</td>\n",
       "    </tr>\n",
       "    <tr>\n",
       "      <th>1</th>\n",
       "      <td>té</td>\n",
       "      <td>80</td>\n",
       "      <td>BEBIDAS CALIENTES</td>\n",
       "      <td>False</td>\n",
       "    </tr>\n",
       "    <tr>\n",
       "      <th>2</th>\n",
       "      <td>chocolate</td>\n",
       "      <td>150</td>\n",
       "      <td>POSTRES</td>\n",
       "      <td>True</td>\n",
       "    </tr>\n",
       "    <tr>\n",
       "      <th>3</th>\n",
       "      <td>Cacao</td>\n",
       "      <td>120</td>\n",
       "      <td>BEBIDAS CALIENTES</td>\n",
       "      <td>True</td>\n",
       "    </tr>\n",
       "  </tbody>\n",
       "</table>\n",
       "</div>"
      ],
      "text/plain": [
       "     Producto  Precio            Categoría  >=120\n",
       "0        Café     100    BEBIDAS CALIENTES  False\n",
       "1          té      80    BEBIDAS CALIENTES  False\n",
       "2   chocolate     150              POSTRES   True\n",
       "3      Cacao      120   BEBIDAS CALIENTES    True"
      ]
     },
     "execution_count": 7,
     "metadata": {},
     "output_type": "execute_result"
    }
   ],
   "source": [
    "#4. Crea una nueva columna que indique si el precio es mayor o igual a 120. Usa una función `lambda` para esto.\n",
    "df_productos['>=120'] = df_productos['Precio'].apply(lambda x: x >=120)\n",
    "inplace=True\n",
    "df_productos"
   ]
  },
  {
   "cell_type": "markdown",
   "metadata": {},
   "source": [
    "### **Ejercicio 2: Limpieza de duplicados y manejo de datos faltantes**\n",
    "Dado el siguiente DataFrame de empleados:"
   ]
  },
  {
   "cell_type": "code",
   "execution_count": 8,
   "metadata": {},
   "outputs": [
    {
     "name": "stdout",
     "output_type": "stream",
     "text": [
      "  Nombre  Edad Departamento\n",
      "0    Ana  29.0       Ventas\n",
      "1   Luis  45.0     Finanzas\n",
      "2  Pedro   NaN         RRHH\n",
      "3   Luis  40.0     Finanzas\n",
      "4   Juan  35.0    Marketing\n",
      "5    Ana  29.0         None\n"
     ]
    }
   ],
   "source": [
    "data_empleados = {\n",
    "    'Nombre': ['Ana', 'Luis', 'Pedro', 'Luis', 'Juan', 'Ana'],\n",
    "    'Edad': [29, 45, None, 40, 35, 29],\n",
    "    'Departamento': ['Ventas', 'Finanzas', 'RRHH', 'Finanzas', 'Marketing', None]\n",
    "}\n",
    "\n",
    "df_empleados = pd.DataFrame(data_empleados)\n",
    "print(df_empleados)"
   ]
  },
  {
   "cell_type": "markdown",
   "metadata": {},
   "source": [
    "1. Elimina las filas duplicadas en base a la columna **Nombre**. Quédate con la persona `más joven´.\n",
    "2. Llena los valores faltantes de la columna **Edad** con la media de las edades.\n",
    "3. Llena los valores faltantes de la columna **Departamento** con el valor 'Desconocido'.\n",
    "4. Ordena el DataFrame por edad de forma descendente."
   ]
  },
  {
   "cell_type": "code",
   "execution_count": 9,
   "metadata": {},
   "outputs": [
    {
     "name": "stdout",
     "output_type": "stream",
     "text": [
      "  Nombre  Edad Departamento\n",
      "0    Ana  29.0       Ventas\n",
      "4   Juan  35.0    Marketing\n",
      "3   Luis  40.0     Finanzas\n",
      "2  Pedro   NaN         RRHH\n"
     ]
    }
   ],
   "source": [
    "#1. Elimina las filas duplicadas en base a la columna **Nombre**. Quédate con la persona `más joven´.\n",
    "df_empleados = df_empleados.sort_values(by='Edad')\n",
    "df_empleados = df_empleados.drop_duplicates('Nombre')\n",
    "inplace=True\n",
    "print(df_empleados)"
   ]
  },
  {
   "cell_type": "code",
   "execution_count": 10,
   "metadata": {},
   "outputs": [
    {
     "name": "stdout",
     "output_type": "stream",
     "text": [
      "  Nombre  Edad Departamento\n",
      "0    Ana  29.0       Ventas\n",
      "4   Juan  35.0    Marketing\n",
      "3   Luis  40.0     Finanzas\n",
      "2  Pedro  35.0         RRHH\n"
     ]
    }
   ],
   "source": [
    "#2. Llena los valores faltantes de la columna **Edad** con la media de las edades.\n",
    "df_empleados['Edad'] = df_empleados['Edad'].fillna(df_empleados['Edad'].median())\n",
    "inplace=True\n",
    "print(df_empleados)"
   ]
  },
  {
   "cell_type": "code",
   "execution_count": 11,
   "metadata": {},
   "outputs": [
    {
     "name": "stdout",
     "output_type": "stream",
     "text": [
      "  Nombre  Edad Departamento\n",
      "0    Ana  29.0       Ventas\n",
      "4   Juan  35.0    Marketing\n",
      "3   Luis  40.0     Finanzas\n",
      "2  Pedro  35.0         RRHH\n"
     ]
    }
   ],
   "source": [
    "#3. Llena los valores faltantes de la columna **Departamento** con el valor 'Desconocido'.\n",
    "df_empleados['Departamento'] = df_empleados['Departamento'].fillna('Desconocido')\n",
    "inplace=True\n",
    "print(df_empleados)"
   ]
  },
  {
   "cell_type": "code",
   "execution_count": 12,
   "metadata": {},
   "outputs": [
    {
     "name": "stdout",
     "output_type": "stream",
     "text": [
      "  Nombre  Edad Departamento\n",
      "3   Luis  40.0     Finanzas\n",
      "4   Juan  35.0    Marketing\n",
      "2  Pedro  35.0         RRHH\n",
      "0    Ana  29.0       Ventas\n"
     ]
    }
   ],
   "source": [
    "#4. Ordena el DataFrame por edad de forma descendente.\n",
    "df_empleados = df_empleados.sort_values(by='Edad',ascending=False) \n",
    "inplace=True\n",
    "print(df_empleados)"
   ]
  },
  {
   "cell_type": "markdown",
   "metadata": {},
   "source": [
    "### **Ejercicio 3: Aplicar funciones a las columnas**\n",
    "Dado un DataFrame de ventas de productos:"
   ]
  },
  {
   "cell_type": "code",
   "execution_count": 13,
   "metadata": {},
   "outputs": [
    {
     "name": "stdout",
     "output_type": "stream",
     "text": [
      "  Producto  Precio  Cantidad\n",
      "0     Café     120         3\n",
      "1       Té      80         5\n",
      "2     Jugo      90         2\n",
      "3     Agua      60         8\n"
     ]
    }
   ],
   "source": [
    "data_ventas = {\n",
    "    'Producto': ['Café', 'Té', 'Jugo', 'Agua'],\n",
    "    'Precio': [120, 80, 90, 60],\n",
    "    'Cantidad': [3, 5, 2, 8]\n",
    "}\n",
    "\n",
    "df_ventas = pd.DataFrame(data_ventas)\n",
    "print(df_ventas)"
   ]
  },
  {
   "cell_type": "markdown",
   "metadata": {},
   "source": [
    "1. Calcula el total de ventas (Precio * Cantidad) y agrégalo como una nueva columna.\n",
    "2. Crea una nueva columna llamada **Descuento** que aplique un descuento del 10% si el precio es mayor a 100, y del 5% si es menor o igual a 100. Usa la función `apply` y una función `lambda`."
   ]
  },
  {
   "cell_type": "code",
   "execution_count": 14,
   "metadata": {},
   "outputs": [
    {
     "name": "stdout",
     "output_type": "stream",
     "text": [
      "  Producto  Precio  Cantidad  Total_Ventas\n",
      "0     Café     120         3           360\n",
      "1       Té      80         5           400\n",
      "2     Jugo      90         2           180\n",
      "3     Agua      60         8           480\n"
     ]
    }
   ],
   "source": [
    "#1. Calcula el total de ventas (Precio * Cantidad) y agrégalo como una nueva columna.\n",
    "df_ventas['Total_Ventas'] = df_ventas['Precio'] * data_ventas['Cantidad']\n",
    "print(df_ventas)"
   ]
  },
  {
   "cell_type": "code",
   "execution_count": 16,
   "metadata": {},
   "outputs": [
    {
     "name": "stdout",
     "output_type": "stream",
     "text": [
      "  Producto  Precio  Cantidad  Total_Ventas  Descuentos\n",
      "0     Café     120         3           360        12.0\n",
      "1       Té      80         5           400         4.0\n",
      "2     Jugo      90         2           180         4.5\n",
      "3     Agua      60         8           480         3.0\n"
     ]
    }
   ],
   "source": [
    "#2. Crea una nueva columna llamada **Descuento** que aplique un descuento del 10% si el precio es mayor a 100, \n",
    "# y del 5% si es menor o igual a 100. Usa la función `apply` y una función `lambda`\n",
    "df_ventas['Descuentos'] = df_ventas['Precio'].apply(lambda x:x * 0.10 if x > 100 else x * 0.05)\n",
    "print(df_ventas)\n",
    "\n",
    "\n",
    "\n",
    "\n",
    "\n",
    "\n"
   ]
  },
  {
   "cell_type": "markdown",
   "metadata": {},
   "source": [
    "### **Ejercicio 4: Uso de funciones de cadena**\n",
    "Dado el siguiente DataFrame de direcciones de clientes:"
   ]
  },
  {
   "cell_type": "code",
   "execution_count": 25,
   "metadata": {},
   "outputs": [
    {
     "name": "stdout",
     "output_type": "stream",
     "text": [
      "       Cliente           Dirección\n",
      "0   Juan Pérez     calle falsa 123\n",
      "1     Ana Ruiz  Calle PRINCIPAL 45\n",
      "2  Pedro López   AV. LOS robles 34\n"
     ]
    }
   ],
   "source": [
    "data_clientes = {\n",
    "    'Cliente': ['Juan Pérez', 'Ana Ruiz', 'Pedro López'],\n",
    "    'Dirección': ['calle falsa 123', 'Calle PRINCIPAL 45', 'AV. LOS robles 34']\n",
    "}\n",
    "\n",
    "df_clientes = pd.DataFrame(data_clientes)\n",
    "print(df_clientes)"
   ]
  },
  {
   "cell_type": "markdown",
   "metadata": {},
   "source": [
    "1. Convierte todos los valores de la columna **Dirección** a minúsculas.\n",
    "2. Reemplaza las abreviaturas \"calle\", \"av.\" por \"calle\" y \"avenida\" respectivamente.\n",
    "3. Extrae el número de la dirección y guárdalo en una nueva columna llamada **Número**."
   ]
  },
  {
   "cell_type": "code",
   "execution_count": 26,
   "metadata": {},
   "outputs": [
    {
     "name": "stdout",
     "output_type": "stream",
     "text": [
      "       Cliente           Dirección\n",
      "0   Juan Pérez     calle falsa 123\n",
      "1     Ana Ruiz  calle principal 45\n",
      "2  Pedro López   av. los robles 34\n"
     ]
    }
   ],
   "source": [
    "#1. Convierte todos los valores de la columna **Dirección** a minúsculas.\n",
    "df_clientes['Dirección'] = df_clientes['Dirección'].apply(lambda x: x.lower())\n",
    "print(df_clientes)\n"
   ]
  },
  {
   "cell_type": "code",
   "execution_count": 27,
   "metadata": {},
   "outputs": [
    {
     "name": "stdout",
     "output_type": "stream",
     "text": [
      "       Cliente               Dirección\n",
      "0   Juan Pérez         calle falsa 123\n",
      "1     Ana Ruiz      calle principal 45\n",
      "2  Pedro López  avenida. los robles 34\n"
     ]
    }
   ],
   "source": [
    "#2. Reemplaza las abreviaturas \"calle\", \"av.\" por \"calle\" y \"avenida\" respectivamente.\n",
    "df_clientes['Dirección']  = df_clientes['Dirección'].apply(lambda x: x.replace('av', 'avenida'))  \n",
    "print(df_clientes)"
   ]
  },
  {
   "cell_type": "code",
   "execution_count": 29,
   "metadata": {},
   "outputs": [
    {
     "name": "stdout",
     "output_type": "stream",
     "text": [
      "       Cliente               Dirección Numero\n",
      "0   Juan Pérez         calle falsa 123    123\n",
      "1     Ana Ruiz      calle principal 45     45\n",
      "2  Pedro López  avenida. los robles 34     34\n"
     ]
    },
    {
     "name": "stderr",
     "output_type": "stream",
     "text": [
      "<>:2: SyntaxWarning: invalid escape sequence '\\d'\n",
      "<>:2: SyntaxWarning: invalid escape sequence '\\d'\n",
      "C:\\Users\\Martin\\AppData\\Local\\Temp\\ipykernel_11568\\3288080232.py:2: SyntaxWarning: invalid escape sequence '\\d'\n",
      "  df_clientes['Numero']  = df_clientes['Dirección'].str.extract('(\\d+)')\n"
     ]
    }
   ],
   "source": [
    "#3. Extrae el número de la dirección y guárdalo en una nueva columna llamada **Número**.\n",
    "df_clientes['Numero']  = df_clientes['Dirección'].str.extract('(\\d+)')\n",
    "print(df_clientes)"
   ]
  }
 ],
 "metadata": {
  "kernelspec": {
   "display_name": "curso-ine",
   "language": "python",
   "name": "python3"
  },
  "language_info": {
   "codemirror_mode": {
    "name": "ipython",
    "version": 3
   },
   "file_extension": ".py",
   "mimetype": "text/x-python",
   "name": "python",
   "nbconvert_exporter": "python",
   "pygments_lexer": "ipython3",
   "version": "3.12.6"
  }
 },
 "nbformat": 4,
 "nbformat_minor": 2
}
